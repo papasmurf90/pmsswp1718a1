{
 "cells": [
  {
   "cell_type": "markdown",
   "metadata": {},
   "source": [
    "# Notebook για την παραγωγή των δεδομένων N-Triples (εργασία μαθήματος).\n",
    "\n",
    "Χρησιμοποιήστε κώδικα από τα notebooks προηγούμενων εργαστηρίων με τις κατάλληλες αλλαγές για να συμπληρώσετε το ζητούμενο αρχείο `schedule-data.nt` της εργασίας του μαθήματος. Μην ξεχάσετε να εισάγετε τις τριάδες με το κατηγόρημα `rdf:type`!\n",
    "\n",
    "Προσθέστε τον κώδικά σας στα επόμενα κελιά."
   ]
  },
  {
   "cell_type": "code",
   "execution_count": null,
   "metadata": {
    "collapsed": true
   },
   "outputs": [],
   "source": [import csv
uri = []
with open('schedule-uris.csv','r',newline='') as ifp:
    reader = csv.reader(ifp)
    for row in reader:
        uri.append(row)
        
triple=[]
type = '<http://www.w3.org/1999/02/22-rdf-syntax-ns#type>'
Lesson = '<http://dilab77.ionio.gr/swp/c17port/vocab#Μάθημα'

Start = '<http://dilab77.ionio.gr/swp/c17port/vocab#Έναρξη'
End = '<http://dilab77.ionio.gr/swp/c17port/vocab#Λήξη'

Day = 'http://dilab77.ionio.gr/swp/c17port/vocab#Ημέρα'
Room = 'http://dilab77.ionio.gr/swp/c17port/vocab#Αίθουσα'

def writer(ofp, a1, a2, a3):
    print('{}{}{}.'.format(
        a1,
        a2,
        a3
        )
        )
    ofp.write('{}{}{}. \n'.format(
        a1,
        a2,
        a3
        )
        )
    
with open('schedule-data.nt','w') as ofp:
    visited = set()
    for s,p,o in uri:
        
        if o.startswith('http:'):
            o = '<' + o + '>'
            p = '<' + p + '>'
        if p == Start or p == End:
            o = '"0' + o + ':00:00' + '"^^<http://www.w3.org/2001/XMLSchema#time>'
        if p == Day:
            o = '"' + o + '"'
        triple.append((s,p,o))
        
        if p == Lesson and o not in visited:
            visited.add(o)
            writer(
                o,
                type,
                Lesson)
            
        if p == Room and o not in visited:
            visited.add(o)
            writer(
                o,
                type,
                Room)
print(ofp)]
  }
 ],
 "metadata": {
  "kernelspec": {
   "display_name": "Python 3",
   "language": "python",
   "name": "python3"
  },
  "language_info": {
   "codemirror_mode": {
    "name": "ipython",
    "version": 3
   },
   "file_extension": ".py",
   "mimetype": "text/x-python",
   "name": "python",
   "nbconvert_exporter": "python",
   "pygments_lexer": "ipython3",
   "version": "3.4.4"
  }
 },
 "nbformat": 4,
 "nbformat_minor": 0
}
